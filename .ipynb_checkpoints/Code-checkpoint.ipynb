{
 "cells": [
  {
   "cell_type": "code",
   "execution_count": 1,
   "id": "5860e98e-f01a-4275-881e-70f0730e5b68",
   "metadata": {},
   "outputs": [
    {
     "name": "stdin",
     "output_type": "stream",
     "text": [
      "Please enter your name l\n",
      "Please enter your age 0\n"
     ]
    },
    {
     "name": "stdout",
     "output_type": "stream",
     "text": [
      "Your name is l and your age is 0\n"
     ]
    }
   ],
   "source": [
    "name = input(\"Please enter your name\")\n",
    "age = int(input(\"Please enter your age\"))\n",
    "        \n",
    "\n",
    "print(f\"Your name is {name} and your age is {age}\")"
   ]
  },
  {
   "cell_type": "code",
   "execution_count": null,
   "id": "eadbeff1-5e11-402b-9f02-137b229c7f3e",
   "metadata": {},
   "outputs": [],
   "source": []
  }
 ],
 "metadata": {
  "kernelspec": {
   "display_name": "Python 3 (ipykernel)",
   "language": "python",
   "name": "python3"
  },
  "language_info": {
   "codemirror_mode": {
    "name": "ipython",
    "version": 3
   },
   "file_extension": ".py",
   "mimetype": "text/x-python",
   "name": "python",
   "nbconvert_exporter": "python",
   "pygments_lexer": "ipython3",
   "version": "3.11.13"
  }
 },
 "nbformat": 4,
 "nbformat_minor": 5
}
